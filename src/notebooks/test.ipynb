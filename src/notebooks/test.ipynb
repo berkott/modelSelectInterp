{
 "cells": [
  {
   "attachments": {},
   "cell_type": "markdown",
   "metadata": {},
   "source": [
    "# Evaluation of Performance of Trained Transformer"
   ]
  },
  {
   "cell_type": "code",
   "execution_count": 14,
   "metadata": {},
   "outputs": [],
   "source": [
    "import numpy as np\n",
    "import torch\n",
    "import torch.nn as nn\n",
    "from torch.utils.data import TensorDataset, DataLoader\n",
    "from utils.data_gen import get_data, format_data\n",
    "from models import TransformerModel\n",
    "import wandb\n",
    "import yaml\n",
    "from munch import Munch\n",
    "import time\n",
    "\n",
    "with open(f\"configs/model_selection.yaml\", \"r\") as yaml_file:\n",
    "    args = Munch.fromYAML(yaml_file)\n",
    "\n",
    "device = torch.device(\"cuda\" if torch.cuda.is_available() else \"cpu\")"
   ]
  },
  {
   "cell_type": "code",
   "execution_count": 15,
   "metadata": {},
   "outputs": [
    {
     "data": {
      "text/plain": [
       "TransformerModel(\n",
       "  (_read_in): Linear(in_features=3, out_features=64, bias=True)\n",
       "  (_backbone): GPT2Model(\n",
       "    (wte): Embedding(50257, 64)\n",
       "    (wpe): Embedding(21, 64)\n",
       "    (drop): Dropout(p=0.0, inplace=False)\n",
       "    (h): ModuleList(\n",
       "      (0-2): 3 x GPT2Block(\n",
       "        (ln_1): LayerNorm((64,), eps=1e-05, elementwise_affine=True)\n",
       "        (attn): GPT2Attention(\n",
       "          (c_attn): Conv1D()\n",
       "          (c_proj): Conv1D()\n",
       "          (attn_dropout): Dropout(p=0.0, inplace=False)\n",
       "          (resid_dropout): Dropout(p=0.0, inplace=False)\n",
       "        )\n",
       "        (ln_2): LayerNorm((64,), eps=1e-05, elementwise_affine=True)\n",
       "        (mlp): GPT2MLP(\n",
       "          (c_fc): Conv1D()\n",
       "          (c_proj): Conv1D()\n",
       "          (act): NewGELUActivation()\n",
       "          (dropout): Dropout(p=0.0, inplace=False)\n",
       "        )\n",
       "      )\n",
       "    )\n",
       "    (ln_f): LayerNorm((64,), eps=1e-05, elementwise_affine=True)\n",
       "  )\n",
       "  (_read_out): Linear(in_features=64, out_features=1, bias=True)\n",
       ")"
      ]
     },
     "execution_count": 15,
     "metadata": {},
     "output_type": "execute_result"
    }
   ],
   "source": [
    "model = TransformerModel(\n",
    "    n_dims=len(args.data.data_alphas) + 1,\n",
    "    n_positions=args.data.N,\n",
    "    n_layer=args.model.n_layer,\n",
    "    n_head=args.model.n_head,\n",
    "    n_embd=args.model.n_embd\n",
    ").to(device)\n",
    "# model.load_state_dict(torch.load(\"models/model16867753992.pth\", map_location=torch.device('cpu'))) # TODO: Remove map_location\n",
    "model.load_state_dict(torch.load(\"models/model16867844348.pth\", map_location=torch.device('cpu'))) # TODO: Remove map_location\n",
    "model.eval()"
   ]
  },
  {
   "cell_type": "code",
   "execution_count": 16,
   "metadata": {},
   "outputs": [
    {
     "name": "stdout",
     "output_type": "stream",
     "text": [
      "Alphas: torch.Size([10000]), X: torch.Size([10000, 21, 3]), y: torch.Size([10000])\n"
     ]
    }
   ],
   "source": [
    "data_dict = get_data(alphas=args.data.data_alphas, N=args.data.N, d_d=args.data.d_d, train_samp_per_class=args.data.train_samp_per_class)\n",
    "\n",
    "alphas, X, y = format_data(data_dict, train_samples_per_alpha=int(args.data.train_samp_per_class / len(args.data.data_alphas)))"
   ]
  },
  {
   "attachments": {},
   "cell_type": "markdown",
   "metadata": {},
   "source": [
    "## Comparing to Ridge"
   ]
  },
  {
   "cell_type": "code",
   "execution_count": 17,
   "metadata": {},
   "outputs": [],
   "source": [
    "def get_manual_select_model(X, y):\n",
    "    loss_fn_none = nn.MSELoss(reduction=\"none\")\n",
    "    \n",
    "    min_indices = torch.argmin(torch.cat((torch.unsqueeze(loss_fn_none(X[:, -1, 0], y), 1), torch.unsqueeze(loss_fn_none(X[:, -1, 1], y), 1)), dim=1), dim=1)\n",
    "\n",
    "    return X[torch.arange(min_indices.shape[0]), -1, min_indices]"
   ]
  },
  {
   "cell_type": "code",
   "execution_count": 18,
   "metadata": {},
   "outputs": [
    {
     "name": "stdout",
     "output_type": "stream",
     "text": [
      "Model selector loss: 0.11170157790184021\n",
      "Alpha 1 loss: 0.11955790966749191\n",
      "Alpha 2 loss: 0.12616121768951416\n",
      "Manual model selection loss: 0.1095167025923729\n"
     ]
    }
   ],
   "source": [
    "loss_fn = nn.MSELoss()\n",
    "\n",
    "pred = model(X)\n",
    "\n",
    "model_selector_loss = loss_fn(pred, y).item()\n",
    "alpha_1_loss = loss_fn(X[:, -1, 0], y).item()\n",
    "alpha_2_loss = loss_fn(X[:, -1, 1], y).item()\n",
    "manual_model_selection_loss = loss_fn(get_manual_select_model(X, y), y).item()\n",
    "\n",
    "print(f\"Model selector loss: {model_selector_loss}\")\n",
    "print(f\"Alpha 1 loss: {alpha_1_loss}\")\n",
    "print(f\"Alpha 2 loss: {alpha_2_loss}\")\n",
    "print(f\"Manual model selection loss: {manual_model_selection_loss}\")"
   ]
  },
  {
   "attachments": {},
   "cell_type": "markdown",
   "metadata": {},
   "source": [
    "## Does it generalize?"
   ]
  },
  {
   "cell_type": "code",
   "execution_count": null,
   "metadata": {},
   "outputs": [],
   "source": []
  }
 ],
 "metadata": {
  "kernelspec": {
   "display_name": "torch-2-nightly-env-3-10",
   "language": "python",
   "name": "python3"
  },
  "language_info": {
   "codemirror_mode": {
    "name": "ipython",
    "version": 3
   },
   "file_extension": ".py",
   "mimetype": "text/x-python",
   "name": "python",
   "nbconvert_exporter": "python",
   "pygments_lexer": "ipython3",
   "version": "3.10.10"
  },
  "orig_nbformat": 4
 },
 "nbformat": 4,
 "nbformat_minor": 2
}
